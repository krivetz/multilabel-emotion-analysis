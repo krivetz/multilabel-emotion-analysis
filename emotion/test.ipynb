{
 "cells": [
  {
   "cell_type": "code",
   "execution_count": 1,
   "id": "09006993-372c-4e3c-a77b-f4d29074b356",
   "metadata": {},
   "outputs": [],
   "source": [
    "import sklearn\n",
    "import os\n",
    "import re\n",
    "import csv\n",
    "import pandas as pd\n",
    "import numpy as mp\n",
    "import seaborn as sns\n",
    "import matplotlib.pyplot as plt\n",
    "import neattext.functions as nfx\n",
    "from bs4 import BeautifulSoup\n",
    "import torch\n",
    "from torch.cuda.amp import autocast\n",
    "from torch.utils.data import Dataset, DataLoader, RandomSampler, SequentialSampler\n",
    "from transformers import BertTokenizer, AutoTokenizer, BertModel, BertConfig, AutoModel, AdamW, DistilBertTokenizer, DistilBertForSequenceClassification\n",
    "from transformers import BertTokenizer, BertForSequenceClassification\n",
    "from transformers import RobertaTokenizer, RobertaForSequenceClassification\n",
    "\n",
    "import warnings\n",
    "warnings.filterwarnings('ignore')"
   ]
  },
  {
   "cell_type": "code",
   "execution_count": 2,
   "id": "afa844ea-890a-49fa-9933-e7d02770a8a2",
   "metadata": {},
   "outputs": [
    {
     "name": "stdout",
     "output_type": "stream",
     "text": [
      "2.6.0+cu124\n",
      "12.4\n",
      "True\n"
     ]
    }
   ],
   "source": [
    "import torch\n",
    "print(torch.__version__)\n",
    "print(torch.version.cuda)\n",
    "print(torch.cuda.is_available())"
   ]
  },
  {
   "cell_type": "code",
   "execution_count": 3,
   "id": "dd69987d-e9b4-4d1b-88e9-ecc0ebc6597e",
   "metadata": {},
   "outputs": [],
   "source": [
    "device = 'cuda' if torch.cuda.is_available() else 'cpu'"
   ]
  },
  {
   "cell_type": "code",
   "execution_count": 4,
   "id": "d981a841-56a7-4012-ac49-b43462fdbe6d",
   "metadata": {},
   "outputs": [],
   "source": [
    "MAX_LEN = 200\n",
    "TRAIN_BATCH_SIZE = 8\n",
    "VALID_BATCH_SIZE = 8"
   ]
  },
  {
   "cell_type": "code",
   "execution_count": null,
   "id": "f3f4ff2c-b2dd-4d5d-8831-ab2ffdb4bf31",
   "metadata": {},
   "outputs": [],
   "source": [
    "# Modeli yükleme\n",
    "#model = DistilBertForSequenceClassification.from_pretrained('./modelb1')\n",
    "model = BertForSequenceClassification.from_pretrained('./modelb')\n",
    "#model = RobertaForSequenceClassification.from_pretrained('./modelr1')\n",
    "# Tokenizer'ı yükleme\n",
    "#mytokenizer = DistilBertTokenizer.from_pretrained('./tokenb1')\n",
    "mytokenizer = BertTokenizer.from_pretrained('./tokenb')\n",
    "#mytokenizer = RobertaTokenizer.from_pretrained('./tokenr1')"
   ]
  },
  {
   "cell_type": "code",
   "execution_count": 6,
   "id": "7cc1c9ac-479b-4670-9b06-dac571ac28a4",
   "metadata": {},
   "outputs": [],
   "source": [
    "model = model.to(device) # Önemli"
   ]
  },
  {
   "cell_type": "code",
   "execution_count": 7,
   "id": "0447ae2b-d374-4a1b-bcb3-89b235d55213",
   "metadata": {},
   "outputs": [],
   "source": [
    "#mytokenizer1 = DistilBertTokenizer.from_pretrained('distilbert-base-uncased')"
   ]
  },
  {
   "cell_type": "code",
   "execution_count": 8,
   "id": "b01932ab-f197-47d7-900d-cb22b37539b6",
   "metadata": {},
   "outputs": [],
   "source": [
    "import pandas as pd\n",
    "\n",
    "# Excel dosyasını oku\n",
    "df1 = pd.read_excel('testdataset.xlsx')  # Dosya adını kendi dosyana göre değiştir"
   ]
  },
  {
   "cell_type": "code",
   "execution_count": 9,
   "id": "90bde1a6-57cf-4106-81c9-29d666f9970e",
   "metadata": {},
   "outputs": [],
   "source": [
    "#df1['Emotion'] = df1['Emotion'].replace('joy', 'happiness')"
   ]
  },
  {
   "cell_type": "code",
   "execution_count": 10,
   "id": "64ec9ac1-e5e7-466f-98fc-fb3f7ee3d99c",
   "metadata": {},
   "outputs": [],
   "source": [
    "from sklearn.preprocessing import MultiLabelBinarizer\n",
    "\n",
    "# Gerçek label sütununu listelere çeviriyoruz (multi-label formatta gibi görünmesi için)\n",
    "df1['labels'] = df1['emotion'].apply(lambda x: [x])\n",
    "\n",
    "mlb = MultiLabelBinarizer(classes=['anger', 'disgust', 'fear', 'happiness', 'sadness', 'surprise', 'neutral'])\n",
    "y_test1 = mlb.fit_transform(df1['labels'])"
   ]
  },
  {
   "cell_type": "code",
   "execution_count": 11,
   "id": "5e209a65-7e65-4d08-b428-c11bae643639",
   "metadata": {},
   "outputs": [
    {
     "data": {
      "text/html": [
       "<div>\n",
       "<style scoped>\n",
       "    .dataframe tbody tr th:only-of-type {\n",
       "        vertical-align: middle;\n",
       "    }\n",
       "\n",
       "    .dataframe tbody tr th {\n",
       "        vertical-align: top;\n",
       "    }\n",
       "\n",
       "    .dataframe thead th {\n",
       "        text-align: right;\n",
       "    }\n",
       "</style>\n",
       "<table border=\"1\" class=\"dataframe\">\n",
       "  <thead>\n",
       "    <tr style=\"text-align: right;\">\n",
       "      <th></th>\n",
       "      <th>text</th>\n",
       "      <th>emotion</th>\n",
       "      <th>labels</th>\n",
       "    </tr>\n",
       "  </thead>\n",
       "  <tbody>\n",
       "    <tr>\n",
       "      <th>0</th>\n",
       "      <td>I remember her sinking beneath the waters, and...</td>\n",
       "      <td>sadness</td>\n",
       "      <td>[sadness]</td>\n",
       "    </tr>\n",
       "    <tr>\n",
       "      <th>1</th>\n",
       "      <td>I think I will miss you forever, like the star...</td>\n",
       "      <td>sadness</td>\n",
       "      <td>[sadness]</td>\n",
       "    </tr>\n",
       "    <tr>\n",
       "      <th>2</th>\n",
       "      <td>I really loved her, but she left.</td>\n",
       "      <td>sadness</td>\n",
       "      <td>[sadness]</td>\n",
       "    </tr>\n",
       "    <tr>\n",
       "      <th>3</th>\n",
       "      <td>This is both incredible and terrifying…. Just ...</td>\n",
       "      <td>fear</td>\n",
       "      <td>[fear]</td>\n",
       "    </tr>\n",
       "    <tr>\n",
       "      <th>4</th>\n",
       "      <td>When he says tissue damage he really means bra...</td>\n",
       "      <td>anger</td>\n",
       "      <td>[anger]</td>\n",
       "    </tr>\n",
       "    <tr>\n",
       "      <th>...</th>\n",
       "      <td>...</td>\n",
       "      <td>...</td>\n",
       "      <td>...</td>\n",
       "    </tr>\n",
       "    <tr>\n",
       "      <th>295</th>\n",
       "      <td>Amazing work from Neuralink!</td>\n",
       "      <td>happiness</td>\n",
       "      <td>[happiness]</td>\n",
       "    </tr>\n",
       "    <tr>\n",
       "      <th>296</th>\n",
       "      <td>This would be terrifying if abused… And as wit...</td>\n",
       "      <td>fear</td>\n",
       "      <td>[fear]</td>\n",
       "    </tr>\n",
       "    <tr>\n",
       "      <th>297</th>\n",
       "      <td>This is impressive but scary. I don't think I ...</td>\n",
       "      <td>fear</td>\n",
       "      <td>[fear]</td>\n",
       "    </tr>\n",
       "    <tr>\n",
       "      <th>298</th>\n",
       "      <td>One of the most dangerous things I've ever hea...</td>\n",
       "      <td>fear</td>\n",
       "      <td>[fear]</td>\n",
       "    </tr>\n",
       "    <tr>\n",
       "      <th>299</th>\n",
       "      <td>I'm not gonna use this kind of chip that can c...</td>\n",
       "      <td>anger</td>\n",
       "      <td>[anger]</td>\n",
       "    </tr>\n",
       "  </tbody>\n",
       "</table>\n",
       "<p>300 rows × 3 columns</p>\n",
       "</div>"
      ],
      "text/plain": [
       "                                                  text    emotion       labels\n",
       "0    I remember her sinking beneath the waters, and...    sadness    [sadness]\n",
       "1    I think I will miss you forever, like the star...    sadness    [sadness]\n",
       "2                    I really loved her, but she left.    sadness    [sadness]\n",
       "3    This is both incredible and terrifying…. Just ...       fear       [fear]\n",
       "4    When he says tissue damage he really means bra...      anger      [anger]\n",
       "..                                                 ...        ...          ...\n",
       "295                       Amazing work from Neuralink!  happiness  [happiness]\n",
       "296  This would be terrifying if abused… And as wit...       fear       [fear]\n",
       "297  This is impressive but scary. I don't think I ...       fear       [fear]\n",
       "298  One of the most dangerous things I've ever hea...       fear       [fear]\n",
       "299  I'm not gonna use this kind of chip that can c...      anger      [anger]\n",
       "\n",
       "[300 rows x 3 columns]"
      ]
     },
     "execution_count": 11,
     "metadata": {},
     "output_type": "execute_result"
    }
   ],
   "source": [
    "df1"
   ]
  },
  {
   "cell_type": "code",
   "execution_count": 12,
   "id": "bfa127a0-3d3e-47b9-be26-59bab40f0d7b",
   "metadata": {},
   "outputs": [],
   "source": [
    "#df1 = df1[df1['Emotion'] != 'neutral']"
   ]
  },
  {
   "cell_type": "code",
   "execution_count": 13,
   "id": "0d3c954a-5d87-41c7-99be-2d0864fec0cd",
   "metadata": {},
   "outputs": [
    {
     "data": {
      "text/plain": [
       "<Axes: xlabel='emotion', ylabel='count'>"
      ]
     },
     "execution_count": 13,
     "metadata": {},
     "output_type": "execute_result"
    },
    {
     "data": {
      "image/png": "[encoded data removed]",
      "text/plain": [
       "<Figure size 640x480 with 1 Axes>"
      ]
     },
     "metadata": {},
     "output_type": "display_data"
    }
   ],
   "source": [
    "sns.countplot(x='emotion',data=df1)"
   ]
  },
  {
   "cell_type": "code",
   "execution_count": 14,
   "id": "96167736-ea07-4662-bd45-44da9b69ab23",
   "metadata": {},
   "outputs": [],
   "source": [
    "inputs1 = mytokenizer(df1['text'].tolist(), padding=True, truncation=True, max_length=MAX_LEN, return_tensors='pt')"
   ]
  },
  {
   "cell_type": "code",
   "execution_count": 15,
   "id": "d1ccda64-91e4-4f35-a679-08698433aaf2",
   "metadata": {},
   "outputs": [],
   "source": [
    "class EmotionDataset(Dataset):\n",
    "    def __init__(self, texts, label_vectors, tokenizer, max_len):\n",
    "        self.texts = texts\n",
    "        self.label_vectors = label_vectors\n",
    "        self.tokenizer = tokenizer\n",
    "        self.max_len = max_len\n",
    "\n",
    "    def __len__(self):\n",
    "        return len(self.texts)\n",
    "\n",
    "    def __getitem__(self, item):\n",
    "        text = str(self.texts[item])\n",
    "        labels = torch.tensor(self.label_vectors[item], dtype=torch.float)\n",
    "\n",
    "        encoding = self.tokenizer.encode_plus(\n",
    "            text,\n",
    "            add_special_tokens=True,\n",
    "            max_length=self.max_len,\n",
    "            padding='max_length',\n",
    "            truncation=True,\n",
    "            return_attention_mask=True,\n",
    "            return_tensors='pt'\n",
    "        )\n",
    "\n",
    "        return {\n",
    "            'input_ids': encoding['input_ids'].flatten(),\n",
    "            'attention_mask': encoding['attention_mask'].flatten(),\n",
    "            'labels': labels\n",
    "        }"
   ]
  },
  {
   "cell_type": "code",
   "execution_count": 16,
   "id": "32500b46-74f1-4310-a0d7-e585384615ac",
   "metadata": {},
   "outputs": [],
   "source": [
    "test_dataset1 = EmotionDataset(df1['text'].tolist(), y_test1, mytokenizer, max_len=MAX_LEN)\n",
    "test_dataloader1 = DataLoader(test_dataset1, batch_size=VALID_BATCH_SIZE, sampler=SequentialSampler(test_dataset1))"
   ]
  },
  {
   "cell_type": "code",
   "execution_count": 17,
   "id": "65d95a13-21bb-4248-ad83-0c90a261aba0",
   "metadata": {},
   "outputs": [],
   "source": [
    "from sklearn.metrics import accuracy_score, precision_score, recall_score, f1_score, classification_report\n",
    "from tqdm import tqdm\n",
    "from sklearn.metrics import confusion_matrix, ConfusionMatrixDisplay\n",
    "\n",
    "def evaluate_model_single_prediction(model, dataloader, device, mlb):\n",
    "    model.eval()\n",
    "    y_true = []\n",
    "    y_pred = []\n",
    "\n",
    "    with torch.no_grad():\n",
    "        for batch in tqdm(dataloader, desc=\"Evaluating\", ncols=100):\n",
    "            input_ids = batch['input_ids'].to(device)\n",
    "            attention_mask = batch['attention_mask'].to(device)\n",
    "            labels = batch['labels'].cpu().numpy()  # Gerçek one-hot vektörler\n",
    "            \n",
    "            outputs = model(input_ids=input_ids, attention_mask=attention_mask)\n",
    "            logits = outputs.logits\n",
    "            probs = torch.sigmoid(logits)\n",
    "\n",
    "            # Olasılıkları ayarla\n",
    "            for i in range(probs.size(0)):\n",
    "                # class indexlerine göre düzeltmeler\n",
    "                for j, class_name in enumerate(mlb.classes):\n",
    "                    if class_name == \"neutral\":\n",
    "                        probs[i][j] *= 0.5\n",
    "                    elif class_name == \"happiness\":\n",
    "                        probs[i][j] *= 0.7\n",
    "\n",
    "            preds = torch.argmax(probs, dim=1).cpu().numpy()  # En yüksek olasılık\n",
    "            true = [label.argmax() for label in labels]  # Gerçek label: one-hot içindeki 1 olan indeks\n",
    "\n",
    "            y_true.extend(true)\n",
    "            y_pred.extend(preds)\n",
    "\n",
    "    # Skorları hesapla\n",
    "    acc = accuracy_score(y_true, y_pred)\n",
    "    precision = precision_score(y_true, y_pred, average=\"weighted\", zero_division=0)\n",
    "    recall = recall_score(y_true, y_pred, average=\"weighted\", zero_division=0)\n",
    "    f1 = f1_score(y_true, y_pred, average=\"weighted\", zero_division=0)\n",
    "\n",
    "    print(\"\\nEvaluation Results:\")\n",
    "    print(f\"Accuracy : {acc * 100:.2f}%\")\n",
    "    print(f\"Precision: {precision * 100:.2f}%\")\n",
    "    print(f\"Recall   : {recall * 100:.2f}%\")\n",
    "    print(f\"F1 Score : {f1 * 100:.2f}%\")\n",
    "\n",
    "    print(\"\\n Classification Report:\")\n",
    "    print(classification_report(y_true, y_pred, target_names=mlb.classes))\n",
    "\n",
    "    matrix = confusion_matrix(y_true, y_pred)\n",
    "    print(\"Class Confusion Matrix\\n\", matrix)\n",
    "    disp = ConfusionMatrixDisplay(confusion_matrix=matrix)\n",
    "    disp.plot(cmap='Blues')\n",
    "    plt.title(\"Confusion Matrix (Custom Decision Tree)\")\n",
    "    plt.show()\n",
    "\n",
    "    return"
   ]
  },
  {
   "cell_type": "code",
   "execution_count": 18,
   "id": "730f0948-6cb8-4a9a-a86a-3fcef5a8f0ef",
   "metadata": {},
   "outputs": [
    {
     "name": "stderr",
     "output_type": "stream",
     "text": [
      "Evaluating: 100%|███████████████████████████████████████████████████| 38/38 [00:02<00:00, 13.67it/s]\n"
     ]
    },
    {
     "name": "stdout",
     "output_type": "stream",
     "text": [
      "\n",
      "Evaluation Results:\n",
      "Accuracy : 82.67%\n",
      "Precision: 84.27%\n",
      "Recall   : 82.67%\n",
      "F1 Score : 82.94%\n",
      "\n",
      " Classification Report:\n",
      "              precision    recall  f1-score   support\n",
      "\n",
      "       anger       0.88      0.80      0.84        96\n",
      "     disgust       0.86      0.67      0.75         9\n",
      "        fear       0.94      0.85      0.89       104\n",
      "   happiness       0.73      0.95      0.83        40\n",
      "     sadness       0.63      0.92      0.75        13\n",
      "    surprise       0.79      0.71      0.75        21\n",
      "     neutral       0.57      0.71      0.63        17\n",
      "\n",
      "    accuracy                           0.83       300\n",
      "   macro avg       0.77      0.80      0.78       300\n",
      "weighted avg       0.84      0.83      0.83       300\n",
      "\n",
      "Class Confusion Matrix\n",
      " [[77  0  3 10  2  1  3]\n",
      " [ 0  6  0  0  1  0  2]\n",
      " [ 5  1 88  2  3  2  3]\n",
      " [ 0  0  0 38  1  0  1]\n",
      " [ 1  0  0  0 12  0  0]\n",
      " [ 4  0  2  0  0 15  0]\n",
      " [ 1  0  1  2  0  1 12]]\n"
     ]
    },
    {
     "data": {
      "image/png": "[encoded data removed]",
      "text/plain": [
       "<Figure size 640x480 with 2 Axes>"
      ]
     },
     "metadata": {},
     "output_type": "display_data"
    }
   ],
   "source": [
    "evaluate_model_single_prediction(model, test_dataloader1, device, mlb)"
   ]
  },
  {
   "cell_type": "code",
   "execution_count": null,
   "id": "9bfadf7c-d73b-40e3-9c4b-e57e46286499",
   "metadata": {},
   "outputs": [],
   "source": []
  },
  {
   "cell_type": "code",
   "execution_count": null,
   "id": "0bd310a3-bf05-4134-ba10-cd6d3a8bbf3e",
   "metadata": {},
   "outputs": [],
   "source": []
  }
 ],
 "metadata": {
  "kernelspec": {
   "display_name": "Python 3 (ipykernel)",
   "language": "python",
   "name": "python3"
  },
  "language_info": {
   "codemirror_mode": {
    "name": "ipython",
    "version": 3
   },
   "file_extension": ".py",
   "mimetype": "text/x-python",
   "name": "python",
   "nbconvert_exporter": "python",
   "pygments_lexer": "ipython3",
   "version": "3.12.3"
  }
 },
 "nbformat": 4,
 "nbformat_minor": 5
}
