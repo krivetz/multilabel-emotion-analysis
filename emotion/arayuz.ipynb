{
 "cells": [
  {
   "cell_type": "code",
   "execution_count": 1,
   "id": "6096a6cb-68c3-410e-be86-bf30334d8e61",
   "metadata": {},
   "outputs": [],
   "source": [
    "import pandas as pd\n",
    "import numpy as mp\n",
    "import torch\n",
    "from transformers import BertTokenizer, AutoTokenizer, BertModel, BertConfig, AutoModel, AdamW, DistilBertTokenizer, DistilBertForSequenceClassification, BertTokenizer, BertForSequenceClassification\n",
    "from transformers import RobertaTokenizer, RobertaForSequenceClassification\n",
    "import warnings\n",
    "warnings.filterwarnings('ignore')"
   ]
  },
  {
   "cell_type": "code",
   "execution_count": 2,
   "id": "23564ca1-5f5c-47d0-8e09-1bcfb68cab80",
   "metadata": {},
   "outputs": [
    {
     "name": "stdout",
     "output_type": "stream",
     "text": [
      "2.6.0+cu124\n",
      "12.4\n",
      "True\n"
     ]
    }
   ],
   "source": [
    "import torch\n",
    "print(torch.__version__)\n",
    "print(torch.version.cuda)\n",
    "print(torch.cuda.is_available())"
   ]
  },
  {
   "cell_type": "code",
   "execution_count": 3,
   "id": "cd62dc1d-32e3-4f0e-8a5f-14ceafe635b6",
   "metadata": {},
   "outputs": [],
   "source": [
    "device = 'cuda' if torch.cuda.is_available() else 'cpu'"
   ]
  },
  {
   "cell_type": "code",
   "execution_count": 4,
   "id": "805d40ea-4989-4742-9382-c3fc8352bd37",
   "metadata": {},
   "outputs": [],
   "source": [
    "# Modeli yükleme\n",
    "#model = DistilBertForSequenceClassification.from_pretrained('./uclumodelm6')\n",
    "model = BertForSequenceClassification.from_pretrained('./modelb')\n",
    "#model = RobertaForSequenceClassification.from_pretrained('./rrfullazneuthappiness3modelm6')\n",
    "# Tokenizer'ı yükleme\n",
    "#mytokenizer = DistilBertTokenizer.from_pretrained('./uclutokenm6')\n",
    "mytokenizer = BertTokenizer.from_pretrained('./tokenb')\n",
    "#mytokenizer = RobertaTokenizer.from_pretrained('./rrfullazneuthappiness3tokenm6')"
   ]
  },
  {
   "cell_type": "code",
   "execution_count": 5,
   "id": "c4b0a138-a444-4918-9db9-73bcd2cfed87",
   "metadata": {},
   "outputs": [],
   "source": [
    "model = model.to(device) # Önemli"
   ]
  },
  {
   "cell_type": "code",
   "execution_count": 6,
   "id": "cf7d2084-f9b3-44bf-b39b-8872d200ad3b",
   "metadata": {},
   "outputs": [],
   "source": [
    "def predict_sentence(sentence):\n",
    "    # Cümleyi tokenize et\n",
    "    inputs = mytokenizer(sentence, return_tensors=\"pt\", padding=True, truncation=True, max_length=512)\n",
    "    inputs = {key: value.to(device) for key, value in inputs.items()}\n",
    "    \n",
    "    # Modeli eval moduna al\n",
    "    model.eval()\n",
    "    \n",
    "    with torch.no_grad():\n",
    "        outputs = model(**inputs)\n",
    "    \n",
    "    logits = outputs.logits\n",
    "    probs = torch.sigmoid(logits)  # Multi-label olduğu için sigmoid\n",
    "\n",
    "    \n",
    "    # Olasılıkları ayarla\n",
    "    for i in range(probs.size(0)):\n",
    "        # class indexlerine göre düzeltmeler\n",
    "        for j, class_name in enumerate(mlb.classes):\n",
    "            if class_name == \"neutral\":\n",
    "                probs[i][j] *= 0.8\n",
    "            elif class_name == \"happiness\":\n",
    "                probs[i][j] *= 0.85\n",
    "\n",
    "    \n",
    "    predicted_index = torch.argmax(probs, dim=1).item()  # En yüksek olasılığı al\n",
    "    \n",
    "    # Sınıf adlarını çözmek için\n",
    "    class_names = mlb.classes\n",
    "    predicted_class_name = class_names[predicted_index]\n",
    "    \n",
    "    return predicted_class_name, probs.squeeze().tolist()"
   ]
  },
  {
   "cell_type": "code",
   "execution_count": 7,
   "id": "44876b07-d756-4df4-87c0-922f1ac372cb",
   "metadata": {},
   "outputs": [],
   "source": [
    "def predict_and_display_probabilities(sentence):\n",
    "    predicted_class_name, probabilities = predict_sentence(sentence)\n",
    "    \n",
    "    print(f\"\\nPredicted Emotion: **{predicted_class_name}**\\n\")\n",
    "    \n",
    "    \n",
    "    # Sınıf isimleri ile olasılıkları eşleştir\n",
    "    class_probabilities = list(zip(mlb.classes, probabilities))  \n",
    "    \n",
    "    print(\"Probabilities for each emotion class:\")\n",
    "    \n",
    "    # Olasılıkları büyükten küçüğe sıralama\n",
    "    sorted_class_probabilities = sorted(class_probabilities, key=lambda x: x[1], reverse=True)\n",
    "    # Sınıf olasılıklarını yazdır\n",
    "    for class_name, prob in sorted_class_probabilities:\n",
    "        print(f\"{class_name}: {prob*100:.2f}%\")"
   ]
  },
  {
   "cell_type": "code",
   "execution_count": 8,
   "id": "0e9cf28f-8268-4250-ab49-8748d941560f",
   "metadata": {},
   "outputs": [],
   "source": [
    "from sklearn.preprocessing import MultiLabelBinarizer\n",
    "\n",
    "mlb = MultiLabelBinarizer(classes=['anger', 'disgust', 'fear', 'happiness', 'sadness', 'surprise', 'neutral'])"
   ]
  },
  {
   "cell_type": "code",
   "execution_count": 9,
   "id": "731c9e27-9162-4b58-a7cf-f9969129af94",
   "metadata": {},
   "outputs": [],
   "source": [
    "sentence = \"I remember her sinking beneath the waters, and then, and then... And so it was, that love was the gravest sin of all.\""
   ]
  },
  {
   "cell_type": "code",
   "execution_count": 10,
   "id": "28e3a5fb-1a96-4ffe-a8ed-cf2ebd08abde",
   "metadata": {},
   "outputs": [],
   "source": [
    "sentence = \"I think I will miss you forever, like the stars miss the sun in the morning sky.\""
   ]
  },
  {
   "cell_type": "code",
   "execution_count": 11,
   "id": "88e360b9-a957-41cd-9ad4-45d08851ceef",
   "metadata": {},
   "outputs": [],
   "source": [
    "sentence = \"I really loved her, but she left.\""
   ]
  },
  {
   "cell_type": "code",
   "execution_count": 12,
   "id": "015522fc-5df0-4454-8b4f-3495ab97a9bd",
   "metadata": {},
   "outputs": [],
   "source": [
    "sentence = \"I love you my darling.\""
   ]
  },
  {
   "cell_type": "code",
   "execution_count": 13,
   "id": "0d1e54e0-409f-43bc-94cd-c63d320fd893",
   "metadata": {},
   "outputs": [],
   "source": [
    "sentence = \"This is both incredible and terrifying…. Just think these are the things they are telling us about. 😮\""
   ]
  },
  {
   "cell_type": "code",
   "execution_count": 14,
   "id": "51899a63-1657-40d0-b1ad-177508c2edfc",
   "metadata": {},
   "outputs": [],
   "source": [
    "sentence = \"When he says tissue damage he really means brain damage, you have the possibility of losing more capabilities after procedure..... Yeah this is a pass, thanks\""
   ]
  },
  {
   "cell_type": "code",
   "execution_count": 15,
   "id": "864b6044-a0bc-4726-a6d9-fa17f2426e04",
   "metadata": {},
   "outputs": [],
   "source": [
    "sentence = \"Don't get me wrong, this is a wonderful advancement that could help a lot of people, but at the same time, it feels like the backstory to a dystopian novel.\""
   ]
  },
  {
   "cell_type": "code",
   "execution_count": 16,
   "id": "764f27dc-3c4f-48b9-9371-4c28cf703918",
   "metadata": {},
   "outputs": [],
   "source": [
    "sentence = \"I don't need any thing artificial connected to my brain The body is it's own intelligence.\""
   ]
  },
  {
   "cell_type": "code",
   "execution_count": 17,
   "id": "bc25bc2a-5f0d-4c78-97b8-8a814391bc71",
   "metadata": {},
   "outputs": [],
   "source": [
    "sentence = \"This is getting out of hand, STOP THE CHIPPING, these guys want to control us with these things\""
   ]
  },
  {
   "cell_type": "code",
   "execution_count": 18,
   "id": "f98fa456-f2b2-4715-b8ce-42277bc54c75",
   "metadata": {},
   "outputs": [],
   "source": [
    "sentence = \"The fact that most people in these comments are approving of this type of technology is insane to me. It blows my mind how far tech has overtaken our lives.\""
   ]
  },
  {
   "cell_type": "code",
   "execution_count": 19,
   "id": "1e549c18-7c10-4955-8b5b-b6e9e9d38bbc",
   "metadata": {},
   "outputs": [],
   "source": [
    "sentence = \"this is a pass no thanks\""
   ]
  },
  {
   "cell_type": "code",
   "execution_count": 20,
   "id": "f4c9d220-3664-4a15-9082-3904e41b006d",
   "metadata": {},
   "outputs": [],
   "source": [
    "sentence = \"This is getting out of hand, STOP THE CHIPPING, these guys want to control us with these things\""
   ]
  },
  {
   "cell_type": "code",
   "execution_count": 21,
   "id": "e2a8a1dd-fa1a-4686-98b2-1c9a3a3faa9d",
   "metadata": {},
   "outputs": [],
   "source": [
    "sentence = \"I'm not gonna use this kind of chip that can control my mind.\""
   ]
  },
  {
   "cell_type": "code",
   "execution_count": 22,
   "id": "5a8b9994-736c-4e3b-8a97-9668c086f36b",
   "metadata": {},
   "outputs": [
    {
     "name": "stdout",
     "output_type": "stream",
     "text": [
      "\n",
      "Predicted Emotion: **anger**\n",
      "\n",
      "Probabilities for each emotion class:\n",
      "anger: 91.90%\n",
      "neutral: 24.73%\n",
      "fear: 8.78%\n",
      "surprise: 8.60%\n",
      "sadness: 5.20%\n",
      "disgust: 2.61%\n",
      "happiness: 1.51%\n"
     ]
    }
   ],
   "source": [
    "predict_and_display_probabilities(sentence)"
   ]
  },
  {
   "cell_type": "code",
   "execution_count": 23,
   "id": "a9fefc04-405f-4481-8d60-859941e5d9ce",
   "metadata": {},
   "outputs": [
    {
     "name": "stdout",
     "output_type": "stream",
     "text": [
      "\n",
      "Predicted Emotion: **anger**\n",
      "\n",
      "Probabilities for each emotion class:\n",
      "anger: 91.90%\n",
      "neutral: 24.73%\n",
      "fear: 8.78%\n",
      "surprise: 8.60%\n",
      "sadness: 5.20%\n",
      "disgust: 2.61%\n",
      "happiness: 1.51%\n"
     ]
    }
   ],
   "source": [
    "predict_and_display_probabilities(sentence)"
   ]
  },
  {
   "cell_type": "markdown",
   "id": "3239c9a2-dbf6-4d17-bcef-cc1144e9bb08",
   "metadata": {},
   "source": [
    "### Gradio ile arayüz"
   ]
  },
  {
   "cell_type": "code",
   "execution_count": 24,
   "id": "d42f355d-7503-4e77-96f3-8eedcc9ce878",
   "metadata": {},
   "outputs": [
    {
     "name": "stdout",
     "output_type": "stream",
     "text": [
      "* Running on local URL:  http://127.0.0.1:7860\n",
      "* Running on public URL: https://30f5933a4d4e85f3db.gradio.live\n",
      "\n",
      "This share link expires in 1 week. For free permanent hosting and GPU upgrades, run `gradio deploy` from the terminal in the working directory to deploy to Hugging Face Spaces (https://huggingface.co/spaces)\n"
     ]
    },
    {
     "data": {
      "text/html": [
       "<div><iframe src=\"https://30f5933a4d4e85f3db.gradio.live\" width=\"100%\" height=\"500\" allow=\"autoplay; camera; microphone; clipboard-read; clipboard-write;\" frameborder=\"0\" allowfullscreen></iframe></div>"
      ],
      "text/plain": [
       "<IPython.core.display.HTML object>"
      ]
     },
     "metadata": {},
     "output_type": "display_data"
    },
    {
     "data": {
      "text/plain": []
     },
     "execution_count": 24,
     "metadata": {},
     "output_type": "execute_result"
    }
   ],
   "source": [
    "import gradio as gr\n",
    "\n",
    "def predict_gradio_interface(sentence):\n",
    "    predicted_class_name, probabilities = predict_sentence(sentence)\n",
    "    class_probabilities = list(zip(mlb.classes, probabilities))\n",
    "    sorted_class_probabilities = sorted(class_probabilities, key=lambda x: x[1], reverse=True)\n",
    "\n",
    "    result_str = f\"**Predicted Emotion:** {predicted_class_name}**\\n\\n\"\n",
    "    result_str += \"### Probabilities for each emotion class:\\n\\n\"\n",
    "    for class_name, prob in sorted_class_probabilities:\n",
    "        result_str += f\"- {class_name}: {prob*100:.2f}%\\n\"\n",
    "    return result_str\n",
    "\n",
    "interface = gr.Interface(\n",
    "    fn=predict_gradio_interface,\n",
    "    inputs=gr.Textbox(lines=3, placeholder=\"Enter a sentence here...\"),\n",
    "    outputs=\"markdown\",\n",
    "    allow_flagging=\"never\",\n",
    "    title=\"Emotion Detection with BERT\",\n",
    "    description=\"Type a sentence and see predicted emotion with probability scores.\"\n",
    ")\n",
    "\n",
    "interface.launch(share=True)  # \"share=True\" ile dış bağlantı da alabilirsin"
   ]
  },
  {
   "cell_type": "code",
   "execution_count": null,
   "id": "77e123d3-208c-43f8-b530-4ee0f268a2f7",
   "metadata": {},
   "outputs": [],
   "source": []
  },
  {
   "cell_type": "code",
   "execution_count": null,
   "id": "3399a463-da42-44b1-99a6-893ae6954f72",
   "metadata": {},
   "outputs": [],
   "source": []
  },
  {
   "cell_type": "code",
   "execution_count": null,
   "id": "e85fbf5a-8099-4299-939f-3be8a49540f3",
   "metadata": {},
   "outputs": [],
   "source": []
  },
  {
   "cell_type": "code",
   "execution_count": null,
   "id": "c936d9ba-b7e1-48be-9a19-7281f86f613d",
   "metadata": {},
   "outputs": [],
   "source": []
  },
  {
   "cell_type": "code",
   "execution_count": null,
   "id": "f6dd31ad-830d-435c-9929-dda1d1f970d9",
   "metadata": {},
   "outputs": [],
   "source": []
  },
  {
   "cell_type": "code",
   "execution_count": null,
   "id": "b4ab93a5-575d-4823-ab14-5bc8325cca94",
   "metadata": {},
   "outputs": [],
   "source": []
  }
 ],
 "metadata": {
  "kernelspec": {
   "display_name": "Python 3 (ipykernel)",
   "language": "python",
   "name": "python3"
  },
  "language_info": {
   "codemirror_mode": {
    "name": "ipython",
    "version": 3
   },
   "file_extension": ".py",
   "mimetype": "text/x-python",
   "name": "python",
   "nbconvert_exporter": "python",
   "pygments_lexer": "ipython3",
   "version": "3.12.3"
  }
 },
 "nbformat": 4,
 "nbformat_minor": 5
}
